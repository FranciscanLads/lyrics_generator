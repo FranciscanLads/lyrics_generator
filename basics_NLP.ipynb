{
 "cells": [
  {
   "cell_type": "code",
   "execution_count": 49,
   "metadata": {},
   "outputs": [],
   "source": [
    "import tensorflow\n",
    "import keras\n",
    "from tensorflow.keras.preprocessing.text import Tokenizer\n",
    "from tensorflow.keras.preprocessing.sequence import pad_sequences"
   ]
  },
  {
   "cell_type": "code",
   "execution_count": 50,
   "metadata": {},
   "outputs": [],
   "source": [
    "sentences = [\n",
    "    'i love my dog',\n",
    "    'I, love my cat',\n",
    "    'hello friends, how are all of you?',\n",
    "    'I am as fine as a dog'\n",
    "]"
   ]
  },
  {
   "cell_type": "code",
   "execution_count": 51,
   "metadata": {},
   "outputs": [
    {
     "name": "stdout",
     "output_type": "stream",
     "text": [
      "{'<OOV>': 1, 'i': 2, 'love': 3, 'my': 4, 'dog': 5, 'as': 6, 'cat': 7, 'hello': 8, 'friends': 9, 'how': 10, 'are': 11, 'all': 12, 'of': 13, 'you': 14, 'am': 15, 'fine': 16, 'a': 17}\n",
      "[[2, 3, 4, 5], [2, 3, 4, 7], [8, 9, 10, 11, 12, 13, 14], [2, 15, 6, 16, 6, 17, 5]]\n",
      "[[ 2  3  4  5  0  0  0]\n",
      " [ 2  3  4  7  0  0  0]\n",
      " [ 8  9 10 11 12 13 14]\n",
      " [ 2 15  6 16  6 17  5]]\n"
     ]
    }
   ],
   "source": [
    "tokenizer = Tokenizer(num_words = 100, oov_token = \"<OOV>\")\n",
    "tokenizer.fit_on_texts(sentences)\n",
    "word_index = tokenizer.word_index\n",
    "print(word_index)\n",
    "sequences = tokenizer.texts_to_sequences(sentences)\n",
    "padded = pad_sequences(sequences, padding = 'post')\n",
    "print(sequences)\n",
    "print(padded)"
   ]
  },
  {
   "cell_type": "code",
   "execution_count": 45,
   "metadata": {},
   "outputs": [],
   "source": [
    "test_data = [\n",
    "    'bruh, i really love my dog.',\n",
    "    'but does my cat love me?'\n",
    "]"
   ]
  },
  {
   "cell_type": "code",
   "execution_count": 48,
   "metadata": {},
   "outputs": [
    {
     "name": "stdout",
     "output_type": "stream",
     "text": [
      "[[1, 2, 1, 3, 4, 5], [1, 1, 4, 7, 3, 1]]\n",
      "[[1 2 1 3 4]\n",
      " [1 1 4 7 3]]\n"
     ]
    }
   ],
   "source": [
    "test_seq = tokenizer.texts_to_sequences(test_data)\n",
    "padded_test = pad_sequences(test_seq, maxlen = 5, truncating = 'post')\n",
    "print(test_seq)\n",
    "print(padded_test)"
   ]
  },
  {
   "cell_type": "code",
   "execution_count": null,
   "metadata": {},
   "outputs": [],
   "source": []
  }
 ],
 "metadata": {
  "kernelspec": {
   "display_name": "Python 3",
   "language": "python",
   "name": "python3"
  },
  "language_info": {
   "codemirror_mode": {
    "name": "ipython",
    "version": 3
   },
   "file_extension": ".py",
   "mimetype": "text/x-python",
   "name": "python",
   "nbconvert_exporter": "python",
   "pygments_lexer": "ipython3",
   "version": "3.7.6"
  }
 },
 "nbformat": 4,
 "nbformat_minor": 4
}
